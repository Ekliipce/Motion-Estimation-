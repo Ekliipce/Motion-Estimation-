{
 "cells": [
  {
   "cell_type": "markdown",
   "id": "4c738cbb",
   "metadata": {},
   "source": [
    "# TP1 - Motion Estimation"
   ]
  },
  {
   "cell_type": "code",
   "execution_count": null,
   "id": "3e177c09",
   "metadata": {},
   "outputs": [],
   "source": []
  }
 ],
 "metadata": {
  "kernelspec": {
   "display_name": "Python 3 (ipykernel)",
   "language": "python",
   "name": "python3"
  },
  "language_info": {
   "codemirror_mode": {
    "name": "ipython",
    "version": 3
   },
   "file_extension": ".py",
   "mimetype": "text/x-python",
   "name": "python",
   "nbconvert_exporter": "python",
   "pygments_lexer": "ipython3",
   "version": "3.7.6"
  }
 },
 "nbformat": 4,
 "nbformat_minor": 5
}
